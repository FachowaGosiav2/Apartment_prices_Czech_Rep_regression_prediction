{
 "cells": [
  {
   "cell_type": "code",
   "execution_count": 79,
   "metadata": {},
   "outputs": [],
   "source": [
    "import pandas as pd\n",
    "import numpy as np\n",
    "import random\n",
    "# change code cells width\n",
    "from IPython.display import display, HTML\n",
    "import matplotlib.pyplot as plt\n",
    "import seaborn as sns"
   ]
  },
  {
   "cell_type": "code",
   "execution_count": 80,
   "metadata": {},
   "outputs": [
    {
     "name": "stderr",
     "output_type": "stream",
     "text": [
      "C:\\Users\\gracj\\AppData\\Local\\Temp\\ipykernel_17464\\49583723.py:1: DeprecationWarning: Importing display from IPython.core.display is deprecated since IPython 7.14, please import from IPython display\n",
      "  from IPython.core.display import display, HTML\n"
     ]
    },
    {
     "data": {
      "text/html": [
       "<style>.container { width:70% !important; }</style>"
      ],
      "text/plain": [
       "<IPython.core.display.HTML object>"
      ]
     },
     "metadata": {},
     "output_type": "display_data"
    }
   ],
   "source": [
    "from IPython.core.display import display, HTML\n",
    "display(HTML(\"<style>.container { width:70% !important; }</style>\"))"
   ]
  },
  {
   "cell_type": "code",
   "execution_count": 81,
   "metadata": {},
   "outputs": [
    {
     "data": {
      "text/html": [
       "<div>\n",
       "<style scoped>\n",
       "    .dataframe tbody tr th:only-of-type {\n",
       "        vertical-align: middle;\n",
       "    }\n",
       "\n",
       "    .dataframe tbody tr th {\n",
       "        vertical-align: top;\n",
       "    }\n",
       "\n",
       "    .dataframe thead th {\n",
       "        text-align: right;\n",
       "    }\n",
       "</style>\n",
       "<table border=\"1\" class=\"dataframe\">\n",
       "  <thead>\n",
       "    <tr style=\"text-align: right;\">\n",
       "      <th></th>\n",
       "      <th>id</th>\n",
       "      <th>id_sreality</th>\n",
       "      <th>street</th>\n",
       "      <th>district</th>\n",
       "      <th>county</th>\n",
       "      <th>address</th>\n",
       "      <th>disposition</th>\n",
       "      <th>description</th>\n",
       "      <th>price</th>\n",
       "      <th>currency</th>\n",
       "      <th>...</th>\n",
       "      <th>terace_exist</th>\n",
       "      <th>terace</th>\n",
       "      <th>area_built_up</th>\n",
       "      <th>area_garden</th>\n",
       "      <th>garage_exist</th>\n",
       "      <th>garage</th>\n",
       "      <th>starting_price</th>\n",
       "      <th>flat_type</th>\n",
       "      <th>latitude</th>\n",
       "      <th>longitude</th>\n",
       "    </tr>\n",
       "  </thead>\n",
       "  <tbody>\n",
       "    <tr>\n",
       "      <th>0</th>\n",
       "      <td>0</td>\n",
       "      <td>211172956</td>\n",
       "      <td>Konžská</td>\n",
       "      <td>Vokovice</td>\n",
       "      <td>Praha 6</td>\n",
       "      <td>Konžská, Praha 6 - Vokovice</td>\n",
       "      <td>2+1</td>\n",
       "      <td>AKCE =   Stát slíbil, že se nebude platit 4% d...</td>\n",
       "      <td>5460000.0</td>\n",
       "      <td>Kč</td>\n",
       "      <td>...</td>\n",
       "      <td>NaN</td>\n",
       "      <td>NaN</td>\n",
       "      <td>NaN</td>\n",
       "      <td>NaN</td>\n",
       "      <td>NaN</td>\n",
       "      <td>NaN</td>\n",
       "      <td>NaN</td>\n",
       "      <td>NaN</td>\n",
       "      <td>50.096155</td>\n",
       "      <td>14.351234</td>\n",
       "    </tr>\n",
       "    <tr>\n",
       "      <th>1</th>\n",
       "      <td>1</td>\n",
       "      <td>211680348</td>\n",
       "      <td>Koperníkova</td>\n",
       "      <td>Židenice</td>\n",
       "      <td>Brno</td>\n",
       "      <td>Koperníkova, Brno - Židenice</td>\n",
       "      <td>2+kk</td>\n",
       "      <td>Novostavba luxusního bytu 2+kk s terasou, nová...</td>\n",
       "      <td>6740000.0</td>\n",
       "      <td>Kč</td>\n",
       "      <td>...</td>\n",
       "      <td>1.0</td>\n",
       "      <td>8.0</td>\n",
       "      <td>NaN</td>\n",
       "      <td>NaN</td>\n",
       "      <td>NaN</td>\n",
       "      <td>NaN</td>\n",
       "      <td>NaN</td>\n",
       "      <td>NaN</td>\n",
       "      <td>49.201747</td>\n",
       "      <td>16.637873</td>\n",
       "    </tr>\n",
       "    <tr>\n",
       "      <th>2</th>\n",
       "      <td>2</td>\n",
       "      <td>221724252</td>\n",
       "      <td>Pekařská</td>\n",
       "      <td>Frýdek</td>\n",
       "      <td>Frýdek-Místek</td>\n",
       "      <td>Pekařská, Frýdek-Místek - Frýdek</td>\n",
       "      <td>3+1</td>\n",
       "      <td>Prodej bytu 3+1 v os. vl., 76 m2, 1.NP, na ul....</td>\n",
       "      <td>1590000.0</td>\n",
       "      <td>Kč</td>\n",
       "      <td>...</td>\n",
       "      <td>NaN</td>\n",
       "      <td>NaN</td>\n",
       "      <td>NaN</td>\n",
       "      <td>NaN</td>\n",
       "      <td>NaN</td>\n",
       "      <td>NaN</td>\n",
       "      <td>NaN</td>\n",
       "      <td>NaN</td>\n",
       "      <td>49.678780</td>\n",
       "      <td>18.358891</td>\n",
       "    </tr>\n",
       "    <tr>\n",
       "      <th>3</th>\n",
       "      <td>3</td>\n",
       "      <td>216161372</td>\n",
       "      <td>U Mlékárny</td>\n",
       "      <td>NaN</td>\n",
       "      <td>Bystřice pod Hostýnem</td>\n",
       "      <td>U Mlékárny, Bystřice pod Hostýnem</td>\n",
       "      <td>3+1</td>\n",
       "      <td>Naše společnost Vám zprostředkuje Nabízíme Vám...</td>\n",
       "      <td>2590000.0</td>\n",
       "      <td>Kč</td>\n",
       "      <td>...</td>\n",
       "      <td>NaN</td>\n",
       "      <td>NaN</td>\n",
       "      <td>NaN</td>\n",
       "      <td>NaN</td>\n",
       "      <td>NaN</td>\n",
       "      <td>NaN</td>\n",
       "      <td>NaN</td>\n",
       "      <td>NaN</td>\n",
       "      <td>49.402031</td>\n",
       "      <td>17.677481</td>\n",
       "    </tr>\n",
       "    <tr>\n",
       "      <th>4</th>\n",
       "      <td>4</td>\n",
       "      <td>216358492</td>\n",
       "      <td>Na křečku</td>\n",
       "      <td>Horní Měcholupy</td>\n",
       "      <td>Praha 10</td>\n",
       "      <td>Na křečku, Praha 10 - Horní Měcholupy</td>\n",
       "      <td>3+1</td>\n",
       "      <td>Ul. Na Křečku, klidné místo sídliště Horní Měc...</td>\n",
       "      <td>4790000.0</td>\n",
       "      <td>Kč</td>\n",
       "      <td>...</td>\n",
       "      <td>NaN</td>\n",
       "      <td>NaN</td>\n",
       "      <td>NaN</td>\n",
       "      <td>NaN</td>\n",
       "      <td>NaN</td>\n",
       "      <td>NaN</td>\n",
       "      <td>NaN</td>\n",
       "      <td>NaN</td>\n",
       "      <td>50.043005</td>\n",
       "      <td>14.561770</td>\n",
       "    </tr>\n",
       "    <tr>\n",
       "      <th>...</th>\n",
       "      <td>...</td>\n",
       "      <td>...</td>\n",
       "      <td>...</td>\n",
       "      <td>...</td>\n",
       "      <td>...</td>\n",
       "      <td>...</td>\n",
       "      <td>...</td>\n",
       "      <td>...</td>\n",
       "      <td>...</td>\n",
       "      <td>...</td>\n",
       "      <td>...</td>\n",
       "      <td>...</td>\n",
       "      <td>...</td>\n",
       "      <td>...</td>\n",
       "      <td>...</td>\n",
       "      <td>...</td>\n",
       "      <td>...</td>\n",
       "      <td>...</td>\n",
       "      <td>...</td>\n",
       "      <td>...</td>\n",
       "      <td>...</td>\n",
       "    </tr>\n",
       "    <tr>\n",
       "      <th>48658</th>\n",
       "      <td>48658</td>\n",
       "      <td>4285537372</td>\n",
       "      <td>Horoušanská</td>\n",
       "      <td>NaN</td>\n",
       "      <td>Nehvizdy</td>\n",
       "      <td>Horoušanská, Nehvizdy</td>\n",
       "      <td>1+kk</td>\n",
       "      <td>Prodej malého bytu v Nehvizdech (Praha-Východ)...</td>\n",
       "      <td>1290000.0</td>\n",
       "      <td>Kč</td>\n",
       "      <td>...</td>\n",
       "      <td>NaN</td>\n",
       "      <td>NaN</td>\n",
       "      <td>17.0</td>\n",
       "      <td>NaN</td>\n",
       "      <td>NaN</td>\n",
       "      <td>NaN</td>\n",
       "      <td>NaN</td>\n",
       "      <td>NaN</td>\n",
       "      <td>50.117336</td>\n",
       "      <td>14.732274</td>\n",
       "    </tr>\n",
       "    <tr>\n",
       "      <th>48659</th>\n",
       "      <td>48659</td>\n",
       "      <td>4285582940</td>\n",
       "      <td>Smetanova</td>\n",
       "      <td>NaN</td>\n",
       "      <td>Zlín</td>\n",
       "      <td>Smetanova, Zlín</td>\n",
       "      <td>3+kk</td>\n",
       "      <td>Poslední volný byt s vlastní zahradou, včetně ...</td>\n",
       "      <td>4998500.0</td>\n",
       "      <td>Kč</td>\n",
       "      <td>...</td>\n",
       "      <td>1.0</td>\n",
       "      <td>NaN</td>\n",
       "      <td>NaN</td>\n",
       "      <td>NaN</td>\n",
       "      <td>NaN</td>\n",
       "      <td>NaN</td>\n",
       "      <td>NaN</td>\n",
       "      <td>NaN</td>\n",
       "      <td>49.230147</td>\n",
       "      <td>17.664527</td>\n",
       "    </tr>\n",
       "    <tr>\n",
       "      <th>48660</th>\n",
       "      <td>48660</td>\n",
       "      <td>4287508060</td>\n",
       "      <td>Pražská</td>\n",
       "      <td>NaN</td>\n",
       "      <td>Znojmo</td>\n",
       "      <td>Pražská, Znojmo</td>\n",
       "      <td>3+1</td>\n",
       "      <td>Nabízíme k prodeji byt  3+1  ve čtvrtém  nadze...</td>\n",
       "      <td>2400000.0</td>\n",
       "      <td>Kč</td>\n",
       "      <td>...</td>\n",
       "      <td>NaN</td>\n",
       "      <td>NaN</td>\n",
       "      <td>NaN</td>\n",
       "      <td>NaN</td>\n",
       "      <td>NaN</td>\n",
       "      <td>NaN</td>\n",
       "      <td>NaN</td>\n",
       "      <td>NaN</td>\n",
       "      <td>48.867792</td>\n",
       "      <td>16.033927</td>\n",
       "    </tr>\n",
       "    <tr>\n",
       "      <th>48661</th>\n",
       "      <td>48661</td>\n",
       "      <td>4287560796</td>\n",
       "      <td>Filipova</td>\n",
       "      <td>Bystrc</td>\n",
       "      <td>Brno</td>\n",
       "      <td>Filipova, Brno - Bystrc</td>\n",
       "      <td>3+1</td>\n",
       "      <td>Brněnská přehrada je oblíbenou lokalitou pro v...</td>\n",
       "      <td>4450000.0</td>\n",
       "      <td>Kč</td>\n",
       "      <td>...</td>\n",
       "      <td>NaN</td>\n",
       "      <td>NaN</td>\n",
       "      <td>NaN</td>\n",
       "      <td>NaN</td>\n",
       "      <td>NaN</td>\n",
       "      <td>NaN</td>\n",
       "      <td>NaN</td>\n",
       "      <td>NaN</td>\n",
       "      <td>49.219693</td>\n",
       "      <td>16.525947</td>\n",
       "    </tr>\n",
       "    <tr>\n",
       "      <th>48662</th>\n",
       "      <td>48662</td>\n",
       "      <td>4291357788</td>\n",
       "      <td>28. října</td>\n",
       "      <td>NaN</td>\n",
       "      <td>Hlučín</td>\n",
       "      <td>28. října, Hlučín</td>\n",
       "      <td>3+1</td>\n",
       "      <td>Nabízíme Vám ke koupi byt 3+1 v os. vl. v žáda...</td>\n",
       "      <td>2580000.0</td>\n",
       "      <td>Kč</td>\n",
       "      <td>...</td>\n",
       "      <td>NaN</td>\n",
       "      <td>NaN</td>\n",
       "      <td>NaN</td>\n",
       "      <td>NaN</td>\n",
       "      <td>1.0</td>\n",
       "      <td>1.0</td>\n",
       "      <td>NaN</td>\n",
       "      <td>NaN</td>\n",
       "      <td>49.891730</td>\n",
       "      <td>18.193557</td>\n",
       "    </tr>\n",
       "  </tbody>\n",
       "</table>\n",
       "<p>48663 rows × 38 columns</p>\n",
       "</div>"
      ],
      "text/plain": [
       "          id  id_sreality       street         district  \\\n",
       "0          0    211172956      Konžská         Vokovice   \n",
       "1          1    211680348  Koperníkova         Židenice   \n",
       "2          2    221724252     Pekařská           Frýdek   \n",
       "3          3    216161372   U Mlékárny              NaN   \n",
       "4          4    216358492    Na křečku  Horní Měcholupy   \n",
       "...      ...          ...          ...              ...   \n",
       "48658  48658   4285537372  Horoušanská              NaN   \n",
       "48659  48659   4285582940    Smetanova              NaN   \n",
       "48660  48660   4287508060      Pražská              NaN   \n",
       "48661  48661   4287560796     Filipova           Bystrc   \n",
       "48662  48662   4291357788    28. října              NaN   \n",
       "\n",
       "                      county                                address  \\\n",
       "0                    Praha 6            Konžská, Praha 6 - Vokovice   \n",
       "1                       Brno           Koperníkova, Brno - Židenice   \n",
       "2              Frýdek-Místek       Pekařská, Frýdek-Místek - Frýdek   \n",
       "3      Bystřice pod Hostýnem      U Mlékárny, Bystřice pod Hostýnem   \n",
       "4                   Praha 10  Na křečku, Praha 10 - Horní Měcholupy   \n",
       "...                      ...                                    ...   \n",
       "48658               Nehvizdy                  Horoušanská, Nehvizdy   \n",
       "48659                   Zlín                        Smetanova, Zlín   \n",
       "48660                 Znojmo                        Pražská, Znojmo   \n",
       "48661                   Brno                Filipova, Brno - Bystrc   \n",
       "48662                 Hlučín                      28. října, Hlučín   \n",
       "\n",
       "      disposition                                        description  \\\n",
       "0             2+1  AKCE =   Stát slíbil, že se nebude platit 4% d...   \n",
       "1            2+kk  Novostavba luxusního bytu 2+kk s terasou, nová...   \n",
       "2             3+1  Prodej bytu 3+1 v os. vl., 76 m2, 1.NP, na ul....   \n",
       "3             3+1  Naše společnost Vám zprostředkuje Nabízíme Vám...   \n",
       "4             3+1  Ul. Na Křečku, klidné místo sídliště Horní Měc...   \n",
       "...           ...                                                ...   \n",
       "48658        1+kk  Prodej malého bytu v Nehvizdech (Praha-Východ)...   \n",
       "48659        3+kk  Poslední volný byt s vlastní zahradou, včetně ...   \n",
       "48660         3+1  Nabízíme k prodeji byt  3+1  ve čtvrtém  nadze...   \n",
       "48661         3+1  Brněnská přehrada je oblíbenou lokalitou pro v...   \n",
       "48662         3+1  Nabízíme Vám ke koupi byt 3+1 v os. vl. v žáda...   \n",
       "\n",
       "           price currency  ... terace_exist terace area_built_up area_garden  \\\n",
       "0      5460000.0       Kč  ...          NaN    NaN           NaN         NaN   \n",
       "1      6740000.0       Kč  ...          1.0    8.0           NaN         NaN   \n",
       "2      1590000.0       Kč  ...          NaN    NaN           NaN         NaN   \n",
       "3      2590000.0       Kč  ...          NaN    NaN           NaN         NaN   \n",
       "4      4790000.0       Kč  ...          NaN    NaN           NaN         NaN   \n",
       "...          ...      ...  ...          ...    ...           ...         ...   \n",
       "48658  1290000.0       Kč  ...          NaN    NaN          17.0         NaN   \n",
       "48659  4998500.0       Kč  ...          1.0    NaN           NaN         NaN   \n",
       "48660  2400000.0       Kč  ...          NaN    NaN           NaN         NaN   \n",
       "48661  4450000.0       Kč  ...          NaN    NaN           NaN         NaN   \n",
       "48662  2580000.0       Kč  ...          NaN    NaN           NaN         NaN   \n",
       "\n",
       "      garage_exist  garage  starting_price  flat_type   latitude  longitude  \n",
       "0              NaN     NaN             NaN        NaN  50.096155  14.351234  \n",
       "1              NaN     NaN             NaN        NaN  49.201747  16.637873  \n",
       "2              NaN     NaN             NaN        NaN  49.678780  18.358891  \n",
       "3              NaN     NaN             NaN        NaN  49.402031  17.677481  \n",
       "4              NaN     NaN             NaN        NaN  50.043005  14.561770  \n",
       "...            ...     ...             ...        ...        ...        ...  \n",
       "48658          NaN     NaN             NaN        NaN  50.117336  14.732274  \n",
       "48659          NaN     NaN             NaN        NaN  49.230147  17.664527  \n",
       "48660          NaN     NaN             NaN        NaN  48.867792  16.033927  \n",
       "48661          NaN     NaN             NaN        NaN  49.219693  16.525947  \n",
       "48662          1.0     1.0             NaN        NaN  49.891730  18.193557  \n",
       "\n",
       "[48663 rows x 38 columns]"
      ]
     },
     "execution_count": 81,
     "metadata": {},
     "output_type": "execute_result"
    }
   ],
   "source": [
    "df = pd.read_csv(\"../data/train.csv\")\n",
    "df"
   ]
  },
  {
   "cell_type": "code",
   "execution_count": 82,
   "metadata": {},
   "outputs": [
    {
     "data": {
      "text/plain": [
       "id                        0\n",
       "id_sreality               0\n",
       "street                  723\n",
       "district              18155\n",
       "county                    0\n",
       "address                   0\n",
       "disposition               0\n",
       "description               0\n",
       "price                     0\n",
       "currency                  0\n",
       "download_date             0\n",
       "price_note            24279\n",
       "structure                 0\n",
       "building_state            0\n",
       "ownership                 0\n",
       "floor                     0\n",
       "area                      0\n",
       "area_floor            17116\n",
       "energy_performance     6307\n",
       "balcony_exist         35591\n",
       "balcony               41322\n",
       "elevator              14704\n",
       "cellar_exist          16511\n",
       "cellar                31167\n",
       "furnished             23932\n",
       "barrier_free          35157\n",
       "lodge_exist           37194\n",
       "lodge                 43349\n",
       "terace_exist          44737\n",
       "terace                45788\n",
       "area_built_up         47862\n",
       "area_garden           47733\n",
       "garage_exist          44360\n",
       "garage                44360\n",
       "starting_price        48663\n",
       "flat_type             48004\n",
       "latitude                  0\n",
       "longitude                 0\n",
       "dtype: int64"
      ]
     },
     "execution_count": 82,
     "metadata": {},
     "output_type": "execute_result"
    }
   ],
   "source": [
    "df.isnull().sum()"
   ]
  },
  {
   "cell_type": "code",
   "execution_count": 83,
   "metadata": {},
   "outputs": [],
   "source": [
    "def nunique_null_sum(df):\n",
    "    print(f'Unique valuse {df.nunique()}')\n",
    "    print(f'How many values {df.count()}')\n",
    "    print(f'How many null {df.isnull().sum()}')"
   ]
  },
  {
   "cell_type": "markdown",
   "metadata": {},
   "source": [
    "## Czyszczenie danych "
   ]
  },
  {
   "cell_type": "markdown",
   "metadata": {},
   "source": [
    "### Nic nie znaczące dane, ponieważ id = index, id_dreality to losowe liczby, description jest niemożliwe do użycia"
   ]
  },
  {
   "cell_type": "code",
   "execution_count": 84,
   "metadata": {},
   "outputs": [],
   "source": [
    "df.drop(['id', 'id_sreality', 'description'], axis=1, inplace=True)"
   ]
  },
  {
   "cell_type": "markdown",
   "metadata": {},
   "source": [
    "### Są tylko korony więc trzeba usunąć"
   ]
  },
  {
   "cell_type": "code",
   "execution_count": 85,
   "metadata": {},
   "outputs": [
    {
     "data": {
      "text/plain": [
       "array(['Kč'], dtype=object)"
      ]
     },
     "execution_count": 85,
     "metadata": {},
     "output_type": "execute_result"
    }
   ],
   "source": [
    "nunique_null_sum(df['currency'])"
   ]
  },
  {
   "cell_type": "code",
   "execution_count": 86,
   "metadata": {},
   "outputs": [],
   "source": [
    "df.drop(['currency'], axis=1, inplace=True)"
   ]
  },
  {
   "cell_type": "markdown",
   "metadata": {},
   "source": [
    "### Dalsze badanie"
   ]
  },
  {
   "cell_type": "code",
   "execution_count": 87,
   "metadata": {},
   "outputs": [
    {
     "name": "stdout",
     "output_type": "stream",
     "text": [
      "Unique valuse 6904\n",
      "How many values 47940\n",
      "How many null 723\n"
     ]
    }
   ],
   "source": [
    "nunique_null_sum(df['street'])"
   ]
  },
  {
   "cell_type": "code",
   "execution_count": 88,
   "metadata": {},
   "outputs": [
    {
     "name": "stdout",
     "output_type": "stream",
     "text": [
      "Unique valuse 670\n",
      "How many values 30508\n",
      "How many null 18155\n"
     ]
    }
   ],
   "source": [
    "nunique_null_sum(df['district'])"
   ]
  },
  {
   "cell_type": "code",
   "execution_count": 89,
   "metadata": {},
   "outputs": [
    {
     "name": "stdout",
     "output_type": "stream",
     "text": [
      "Unique valuse 849\n",
      "How many values 48663\n",
      "How many null 0\n"
     ]
    }
   ],
   "source": [
    "nunique_null_sum(df['county'])"
   ]
  },
  {
   "cell_type": "code",
   "execution_count": null,
   "metadata": {},
   "outputs": [],
   "source": []
  }
 ],
 "metadata": {
  "kernelspec": {
   "display_name": "czech",
   "language": "python",
   "name": "python3"
  },
  "language_info": {
   "codemirror_mode": {
    "name": "ipython",
    "version": 3
   },
   "file_extension": ".py",
   "mimetype": "text/x-python",
   "name": "python",
   "nbconvert_exporter": "python",
   "pygments_lexer": "ipython3",
   "version": "3.10.14"
  }
 },
 "nbformat": 4,
 "nbformat_minor": 2
}
